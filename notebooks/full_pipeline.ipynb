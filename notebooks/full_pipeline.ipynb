{
 "cells": [
  {
   "cell_type": "markdown",
   "metadata": {},
   "source": [
    "The purpose of this notebook is tho show the full pipeline necessary to run your tensorflow model in tensorrt.\n",
    "\n",
    "I will compare 3 different approaches:\n",
    " - run the raw tensorflow graph\n",
    " - rund a frozen version of the tensorflow graph\n",
    " - run a tensorrt engine created from the frozen tensorflow graph"
   ]
  },
  {
   "cell_type": "code",
   "execution_count": 1,
   "metadata": {},
   "outputs": [
    {
     "name": "stderr",
     "output_type": "stream",
     "text": [
      "/home/lscheucher/anaconda3/envs/tensorrt/lib/python3.5/site-packages/h5py/__init__.py:36: FutureWarning: Conversion of the second argument of issubdtype from `float` to `np.floating` is deprecated. In future, it will be treated as `np.float64 == np.dtype(float).type`.\n",
      "  from ._conv import register_converters as _register_converters\n"
     ]
    }
   ],
   "source": [
    "import py3nvml\n",
    "py3nvml.grab_gpus(num_gpus=1, gpu_fraction=0.9)\n",
    "\n",
    "import cv2\n",
    "import time\n",
    "import sys\n",
    "sys.path.append(\"../src\")\n",
    "import os\n",
    "import glob\n",
    "\n",
    "import numpy as np\n",
    "import tensorflow as tf\n",
    "\n",
    "import tensorrt as trt\n",
    "from tensorrt.parsers import uffparser\n",
    "import uff\n",
    "\n",
    "from config import *\n",
    "from train import _draw_box\n",
    "from nets import *\n",
    "\n",
    "import uff\n",
    "import time\n",
    "import pickle\n",
    "\n",
    "import matplotlib.pyplot as plt\n",
    "\n",
    "import py3nvml\n",
    "py3nvml.grab_gpus(num_gpus=1, gpu_fraction=0.9)\n",
    "\n",
    "import pycuda\n",
    "import pycuda.autoinit\n",
    "\n",
    "NUMFRAMES=100"
   ]
  },
  {
   "cell_type": "markdown",
   "metadata": {},
   "source": [
    "# Package versions"
   ]
  },
  {
   "cell_type": "code",
   "execution_count": 2,
   "metadata": {},
   "outputs": [
    {
     "name": "stdout",
     "output_type": "stream",
     "text": [
      "tensorRT: 4.0.1.6\n",
      "tensorflow: 1.9.0\n",
      "UFF: 0.3.0\n",
      "Pycuda: (2018, 1)\n"
     ]
    }
   ],
   "source": [
    "print(\"tensorRT:\",trt.__version__)\n",
    "print(\"tensorflow:\",tf.__version__)\n",
    "print(\"UFF:\",uff.__version__)\n",
    "print(\"Pycuda:\",pycuda.VERSION)"
   ]
  },
  {
   "cell_type": "code",
   "execution_count": 3,
   "metadata": {
    "scrolled": true
   },
   "outputs": [
    {
     "name": "stdout",
     "output_type": "stream",
     "text": [
      "INFO:tensorflow:Summary name mean iou is illegal; using mean_iou instead.\n"
     ]
    }
   ],
   "source": [
    "mc = kitti_squeezeDetPlus_config()\n",
    "mc.BATCH_SIZE = 1\n",
    "mc.LOAD_PRETRAINED_MODEL = False\n",
    "mc.TF_MODE = 'eval'\n",
    "model = SqueezeDetPlus(mc,0)"
   ]
  },
  {
   "cell_type": "code",
   "execution_count": 4,
   "metadata": {},
   "outputs": [],
   "source": [
    "saver = tf.train.Saver(model.model_params)"
   ]
  },
  {
   "cell_type": "code",
   "execution_count": 5,
   "metadata": {},
   "outputs": [
    {
     "name": "stdout",
     "output_type": "stream",
     "text": [
      "INFO:tensorflow:Restoring parameters from ../data/model_checkpoints/squeezeDetPlus/model.ckpt-95000\n"
     ]
    }
   ],
   "source": [
    "sess_raw =  tf.Session(config=tf.ConfigProto(allow_soft_placement=True))\n",
    "saver.restore(sess_raw,'../data/model_checkpoints/squeezeDetPlus/model.ckpt-95000')"
   ]
  },
  {
   "cell_type": "markdown",
   "metadata": {},
   "source": [
    "Reading the input image"
   ]
  },
  {
   "cell_type": "code",
   "execution_count": 6,
   "metadata": {},
   "outputs": [
    {
     "name": "stdout",
     "output_type": "stream",
     "text": [
      "<class 'numpy.ndarray'>\n",
      "(375, 1242, 3)\n"
     ]
    }
   ],
   "source": [
    "f='../data/sample.png'\n",
    "im = cv2.imread(f)\n",
    "im = im.astype(np.float32, copy=False)\n",
    "im = cv2.resize(im, (mc.IMAGE_WIDTH, mc.IMAGE_HEIGHT))\n",
    "input_image = im - mc.BGR_MEANS\n",
    "print(type(input_image))\n",
    "print(input_image.shape)"
   ]
  },
  {
   "cell_type": "markdown",
   "metadata": {},
   "source": [
    "# Run inference on the raw tensorflow graph\n",
    "Here, we run some inference on the raw tensorflow graph, and track the time it needs.\n",
    "\n",
    "Since we currently only, managed to get the feature extractor running in tensorrt, we also run just the feature extraction part of the graph here."
   ]
  },
  {
   "cell_type": "code",
   "execution_count": 7,
   "metadata": {},
   "outputs": [
    {
     "name": "stdout",
     "output_type": "stream",
     "text": [
      "Elapsed time for 100 inference calls: 2.336027145385742  -> equals 42.80772173282569 FPS\n",
      "(1, 22, 76, 72)\n"
     ]
    }
   ],
   "source": [
    "start = time.time()\n",
    "\n",
    "for i in range(NUMFRAMES):\n",
    "    # Detect\n",
    "#     det_boxes, det_probs, det_class = sess.run(\n",
    "#         fetches=[model.det_boxes, model.det_probs, model.det_class],\n",
    "#         feed_dict={model.image_input:[input_image]})\n",
    "\n",
    "    # Just the feature extraction subgraph\n",
    "    result_raw =sess_raw.run(\n",
    "        fetches=[model.preds],\n",
    "        feed_dict={model.image_input:[input_image]});\n",
    "#     # Filter\n",
    "#     final_boxes, final_probs, final_class = model.filter_prediction(\n",
    "#         det_boxes[0], det_probs[0], det_class[0])\n",
    "\n",
    "#     keep_idx    = [idx for idx in range(len(final_probs)) \\\n",
    "#                       if final_probs[idx] > mc.PLOT_PROB_THRESH]\n",
    "#     final_boxes = [final_boxes[idx] for idx in keep_idx]\n",
    "#     final_probs = [final_probs[idx] for idx in keep_idx]\n",
    "#     final_class = [final_class[idx] for idx in keep_idx]\n",
    "end = time.time()\n",
    "print(\"Elapsed time for\",NUMFRAMES,\"inference calls:\",end-start,\" -> equals\",NUMFRAMES/(end-start),'FPS')\n",
    "print(result_raw[0].shape)"
   ]
  },
  {
   "cell_type": "markdown",
   "metadata": {},
   "source": [
    "# Write the raw graph definition to file"
   ]
  },
  {
   "cell_type": "code",
   "execution_count": 8,
   "metadata": {},
   "outputs": [],
   "source": [
    "LOGDIR='../tensorboard_graphs/raw'\n",
    "train_writer = tf.summary.FileWriter(LOGDIR)\n",
    "train_writer.add_graph(sess_raw.graph)"
   ]
  },
  {
   "cell_type": "markdown",
   "metadata": {},
   "source": [
    "# freeze the graph"
   ]
  },
  {
   "cell_type": "code",
   "execution_count": 9,
   "metadata": {},
   "outputs": [
    {
     "name": "stdout",
     "output_type": "stream",
     "text": [
      "INFO:tensorflow:Froze 64 variables.\n",
      "INFO:tensorflow:Converted 64 variables to const ops.\n",
      "183 ops in the final graph.\n"
     ]
    }
   ],
   "source": [
    "output_nodes = ['interpret_output/pred_class_probs','interpret_output/pred_confidence_score']\n",
    "output_nodes = ['conv12/bias_add']\n",
    "#output_nodes = ['interpret_output/strided_slice']\n",
    "\n",
    "\n",
    "# We use a built-in TF helper to export variables to constants\n",
    "frozen_graph = tf.graph_util.convert_variables_to_constants(\n",
    "    sess=sess_raw, # The session is used to retrieve the weights\n",
    "    input_graph_def=tf.get_default_graph().as_graph_def(), # The graph_def is used to retrieve the nodes\n",
    "    output_node_names=output_nodes,#['sample_detection_results']#output_node_names.split(\",\") # The output node names are used to select the usefull nodes #TODO\n",
    "\n",
    ")\n",
    "frozen_graph = tf.graph_util.remove_training_nodes(frozen_graph)\n",
    "\n",
    "with tf.gfile.GFile(\"./frozen_model.pb\", \"wb\") as f:\n",
    "    f.write(frozen_graph.SerializeToString())\n",
    "    print(\"%d ops in the final graph.\" % len(frozen_graph.node))\n",
    "    \n",
    "sess_raw.close()"
   ]
  },
  {
   "cell_type": "markdown",
   "metadata": {},
   "source": [
    "# Write the frozen graph definition to file"
   ]
  },
  {
   "cell_type": "code",
   "execution_count": 10,
   "metadata": {},
   "outputs": [
    {
     "name": "stdout",
     "output_type": "stream",
     "text": [
      "WARNING:tensorflow:Passing a `GraphDef` to the SummaryWriter is deprecated. Pass a `Graph` object instead, such as `sess.graph`.\n"
     ]
    }
   ],
   "source": [
    "LOGDIR='../tensorboard_graphs/frozen'\n",
    "train_writer = tf.summary.FileWriter(LOGDIR)\n",
    "train_writer.add_graph(frozen_graph)"
   ]
  },
  {
   "cell_type": "code",
   "execution_count": 11,
   "metadata": {},
   "outputs": [
    {
     "data": {
      "text/plain": [
       "tensorflow.core.framework.graph_pb2.GraphDef"
      ]
     },
     "execution_count": 11,
     "metadata": {},
     "output_type": "execute_result"
    }
   ],
   "source": [
    "type(frozen_graph)"
   ]
  },
  {
   "cell_type": "markdown",
   "metadata": {},
   "source": [
    "# Run inference on the frozen tensorflow graph"
   ]
  },
  {
   "cell_type": "code",
   "execution_count": 12,
   "metadata": {},
   "outputs": [
    {
     "name": "stdout",
     "output_type": "stream",
     "text": [
      "Elapsed time for 100 inference calls: 1.7476301193237305  -> equals 57.2203459383593 FPS\n",
      "output shape: (1, 22, 76, 72)\n",
      "difference from raw result: 0.0\n"
     ]
    }
   ],
   "source": [
    "with tf.Graph().as_default() as graph:\n",
    "    tf.import_graph_def(frozen_graph, name=\"prefix\")\n",
    "    \n",
    "    f='../data/sample.png'\n",
    "    im = cv2.imread(f)\n",
    "    im = im.astype(np.float32, copy=False)\n",
    "    im = cv2.resize(im, (mc.IMAGE_WIDTH, mc.IMAGE_HEIGHT))\n",
    "    input_image = im - mc.BGR_MEANS\n",
    "    \n",
    "    x = graph.get_tensor_by_name('prefix/image_input:0')\n",
    "    y = graph.get_tensor_by_name('prefix/conv12/bias_add:0')\n",
    "    \n",
    "    with tf.Session(graph=graph) as sess_frozen:\n",
    "        # Note: we don't nee to initialize/restore anything\n",
    "        # There is no Variables in this graph, only hardcoded constants\n",
    "        start = time.time()\n",
    "        for i in range(NUMFRAMES):\n",
    "            result_frozen = sess_frozen.run(y, feed_dict={x:[input_image] } )\n",
    "        end = time.time()\n",
    "        \n",
    "print(\"Elapsed time for\",NUMFRAMES,\"inference calls:\",end-start,\" -> equals\",NUMFRAMES/(end-start),'FPS')\n",
    "print(\"output shape:\",result_frozen.shape)\n",
    "print(\"difference from raw result:\",np.linalg.norm(result_frozen-result_raw))"
   ]
  },
  {
   "cell_type": "markdown",
   "metadata": {},
   "source": [
    "# Using tensorRT for inference"
   ]
  },
  {
   "cell_type": "markdown",
   "metadata": {},
   "source": [
    "## Creat uff-model"
   ]
  },
  {
   "cell_type": "code",
   "execution_count": 13,
   "metadata": {},
   "outputs": [
    {
     "name": "stdout",
     "output_type": "stream",
     "text": [
      "Using output node conv12/bias_add\n",
      "Converting to UFF graph\n",
      "No. nodes: 174\n",
      "UFF Output written to model.uff\n"
     ]
    }
   ],
   "source": [
    "uff_model = uff.from_tensorflow(frozen_graph, output_nodes, output_filename = \"model.uff\")"
   ]
  },
  {
   "cell_type": "code",
   "execution_count": 14,
   "metadata": {},
   "outputs": [],
   "source": [
    "G_LOGGER = trt.infer.ConsoleLogger(trt.infer.LogSeverity.ERROR)"
   ]
  },
  {
   "cell_type": "markdown",
   "metadata": {},
   "source": [
    "for the paerser, we have to register input and output names."
   ]
  },
  {
   "cell_type": "code",
   "execution_count": 15,
   "metadata": {},
   "outputs": [
    {
     "data": {
      "text/plain": [
       "True"
      ]
     },
     "execution_count": 15,
     "metadata": {},
     "output_type": "execute_result"
    }
   ],
   "source": [
    "# BATCH_SIZE = 20\n",
    "# IMAGE_HEIGHT = 375\n",
    "# IMAGE_WIDTH = 1242\n",
    "# IMAGE_CHANNELS = 3\n",
    "\n",
    "IMAGE_INPUT_SHAPE = (3,mc.IMAGE_HEIGHT,mc.IMAGE_WIDTH)\n",
    "BOX_SHAPE =  (mc.ANCHORS,1)\n",
    "DELTA_SHAPE = (mc.ANCHORS,4)\n",
    "BOX_INPUT_SHAPE =  (mc.ANCHORS,4)\n",
    "\n",
    "parser = uffparser.create_uff_parser()\n",
    "parser.register_input(\"image_input\", IMAGE_INPUT_SHAPE, 0)\n",
    "# parser.register_output('interpret_output/pred_class_prob')\n",
    "# parser.register_output('interpret_output/pred_confidence_score')\n",
    "parser.register_output('conv12/relu')"
   ]
  },
  {
   "cell_type": "markdown",
   "metadata": {},
   "source": [
    "**NOTE** that the input image shape has cahnged compared to the tensorflow graph. Now, the channels come first. I don't know why that is, but otherwise the engine creation will fail."
   ]
  },
  {
   "cell_type": "markdown",
   "metadata": {},
   "source": [
    "## Creating a tensorRT engine"
   ]
  },
  {
   "cell_type": "markdown",
   "metadata": {},
   "source": [
    "**NOTE** that the input shape here is different than the shape dureing model tarining. I'm not sure why that is, but if you do it any different, you wil get an error"
   ]
  },
  {
   "cell_type": "code",
   "execution_count": 16,
   "metadata": {},
   "outputs": [
    {
     "name": "stdout",
     "output_type": "stream",
     "text": [
      "True\n"
     ]
    }
   ],
   "source": [
    "def create_engine(trt, g_logger, uff_model, uff_parser_instance):\n",
    "    engine = None\n",
    "    try:\n",
    "        engine = trt.utils.uff_to_trt_engine(g_logger, uff_model, uff_parser_instance, 1, 1 << 20)\n",
    "    except:\n",
    "        print(\"engine Failed\")\n",
    "    return engine\n",
    "\n",
    "\n",
    "input_names_list= [\"image_input\"]\n",
    "input_shapes_list= [(3,mc.IMAGE_HEIGHT,mc.IMAGE_WIDTH)]\n",
    "output_names = ['conv12/bias_add']\n",
    "#output_names = ['interpret_output/strided_slice']\n",
    "\n",
    "\n",
    "g_logger = trt.infer.ConsoleLogger(trt.infer.LogSeverity.ERROR)\n",
    "uff_parser_instance = uffparser.create_uff_parser()\n",
    "\n",
    "if len(input_names_list) == len(input_shapes_list):\n",
    "    for i in range(0, len(input_names_list)):\n",
    "        uff_parser_instance.register_input(input_names_list[i], input_shapes_list[i], 0)\n",
    "\n",
    "for i in range(0, len(output_names)):\n",
    "    uff_parser_instance.register_output(output_names[i])\n",
    "\n",
    "engine = create_engine(trt, g_logger, uff_model, uff_parser_instance)\n",
    "result = True if engine is not None else False\n",
    "print(result)"
   ]
  },
  {
   "cell_type": "code",
   "execution_count": 17,
   "metadata": {},
   "outputs": [],
   "source": [
    "runtime = trt.infer.create_infer_runtime(G_LOGGER)\n",
    "context = engine.create_execution_context()"
   ]
  },
  {
   "cell_type": "code",
   "execution_count": 18,
   "metadata": {},
   "outputs": [
    {
     "data": {
      "text/plain": [
       "<matplotlib.image.AxesImage at 0x7f362817f160>"
      ]
     },
     "execution_count": 18,
     "metadata": {},
     "output_type": "execute_result"
    },
    {
     "data": {
      "image/png": "[encoded data removed]",
      "text/plain": [
       "<Figure size 432x288 with 1 Axes>"
      ]
     },
     "metadata": {},
     "output_type": "display_data"
    }
   ],
   "source": [
    "# import cv2\n",
    "# img = cv2.imread(\"../data/sample.png\")\n",
    "# img = img.astype(np.float32)/256\n",
    "# print(img.shape)\n",
    "# #plt.imshow(img)\n",
    "input_image_reshaped = np.moveaxis(input_image, [0, 1, 2], [1,2,0])#TODO possible point of failure\n",
    "input_image_reshaped = np.ascontiguousarray(input_image_reshaped).astype(np.float32)\n",
    "plt.imshow(input_image[:,:,0]) #just checking that the data-moving has been done correctly"
   ]
  },
  {
   "cell_type": "markdown",
   "metadata": {},
   "source": [
    "**NOTE** Don't forget to convert your inputs to the correct number-format, in this case float32.\n",
    "Otherwise cuda will still run te graph, but by reinterpreting your input as a different format, ypu will effectively feed garbage to the network."
   ]
  },
  {
   "cell_type": "markdown",
   "metadata": {},
   "source": [
    "Next, we allocate memory on the GPU, as well as on the host to hold results after inference. The size of these allocations is the size of the input/expected output * the batch size."
   ]
  },
  {
   "cell_type": "code",
   "execution_count": 19,
   "metadata": {},
   "outputs": [],
   "source": [
    "import pycuda.driver as cuda\n",
    "result_tensorrt = np.empty((1,22,76,72), dtype = np.float32) #TODO possible point of failure\n",
    "#result_tensorrt = np.empty(22*76*72, dtype = np.float32) #TODO possible point of failure\n",
    "d_input = cuda.mem_alloc(1 * input_image_reshaped.nbytes)\n",
    "d_output = cuda.mem_alloc(1 * result_tensorrt.nbytes)"
   ]
  },
  {
   "cell_type": "markdown",
   "metadata": {},
   "source": [
    "The engine requires bindings (pointers to GPU memory). PyCUDA lets us do this by casting the results of memory allocations to ints."
   ]
  },
  {
   "cell_type": "code",
   "execution_count": 20,
   "metadata": {},
   "outputs": [],
   "source": [
    "bindings = [int(d_input), int(d_output)]"
   ]
  },
  {
   "cell_type": "code",
   "execution_count": 21,
   "metadata": {},
   "outputs": [],
   "source": [
    "stream = cuda.Stream()"
   ]
  },
  {
   "cell_type": "markdown",
   "metadata": {},
   "source": [
    "Now, we transfer the data to the GPU, run inference, then transfer the results to the host."
   ]
  },
  {
   "cell_type": "code",
   "execution_count": 22,
   "metadata": {},
   "outputs": [
    {
     "name": "stdout",
     "output_type": "stream",
     "text": [
      "Elapsed time for 100 inference calls: 0.5537629127502441  -> equals 180.58269648892428 FPS\n",
      "output shape: (1, 22, 76, 72)\n",
      "difference from raw result: 0.0\n"
     ]
    }
   ],
   "source": [
    "start = time.time()\n",
    "for i in range(NUMFRAMES):\n",
    "    # Transfer input data to device\n",
    "    cuda.memcpy_htod_async(d_input, input_image_reshaped, stream)\n",
    "    #cuda.memcpy_htod_async(d_input, input_image, stream)\n",
    "    # Execute model\n",
    "    context.enqueue(1, bindings, stream.handle, None)\n",
    "    # Transfer predictions back\n",
    "    cuda.memcpy_dtoh_async(result_tensorrt, d_output, stream)\n",
    "end = time.time()\n",
    "# Syncronize threads\n",
    "stream.synchronize()\n",
    "\n",
    "print(\"Elapsed time for\",NUMFRAMES,\"inference calls:\",end-start,\" -> equals\",NUMFRAMES/(end-start),'FPS')\n",
    "print(\"output shape:\",result_tensorrt.shape)\n",
    "print(\"difference from raw result:\",np.linalg.norm(result_tensorrt-result_raw))"
   ]
  },
  {
   "cell_type": "markdown",
   "metadata": {},
   "source": [
    "**SUCCESS** All 3 versions come to the same result, but the tensorRT one is significantly faster."
   ]
  }
 ],
 "metadata": {
  "kernelspec": {
   "display_name": "tensorrt",
   "language": "python",
   "name": "tensorrt"
  },
  "language_info": {
   "codemirror_mode": {
    "name": "ipython",
    "version": 3
   },
   "file_extension": ".py",
   "mimetype": "text/x-python",
   "name": "python",
   "nbconvert_exporter": "python",
   "pygments_lexer": "ipython3",
   "version": "3.5.5"
  }
 },
 "nbformat": 4,
 "nbformat_minor": 2
}
